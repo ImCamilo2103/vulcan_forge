{
 "cells": [
  {
   "cell_type": "markdown",
   "id": "520b59d3",
   "metadata": {},
   "source": [
    "# 📊 Exploración Inicial de los Datos Limpios\n",
    "Este notebook realiza una exploración preliminar de los datos de sensores de motores."
   ]
  },
  {
   "cell_type": "code",
   "execution_count": null,
   "id": "c5405699",
   "metadata": {},
   "outputs": [],
   "source": [
    "import os\n",
    "import pandas as pd\n",
    "import matplotlib.pyplot as plt\n",
    "import seaborn as sns\n",
    "sns.set(style='whitegrid')"
   ]
  },
  {
   "cell_type": "code",
   "execution_count": null,
   "id": "aaf9404b",
   "metadata": {},
   "outputs": [],
   "source": [
    "clean_dir = 'data/cleaned'\n",
    "data_files = [f for f in os.listdir(clean_dir) if f.endswith('.csv') and not f.lower().startswith('rul')]"
   ]
  },
  {
   "cell_type": "code",
   "execution_count": null,
   "id": "0b4dc527",
   "metadata": {},
   "outputs": [],
   "source": [
    "for file in data_files:\n",
    "    path = os.path.join(clean_dir, file)\n",
    "    df = pd.read_csv(path)\n",
    "    print(f\"\\n📂 Exploración de: {file}\")\n",
    "    print(\"👥 Unidades únicas:\", df['unit_number'].nunique())\n",
    "    print(df.head(3))"
   ]
  },
  {
   "cell_type": "code",
   "execution_count": null,
   "id": "07a5f9ff",
   "metadata": {},
   "outputs": [],
   "source": [
    "# Visualización de las primeras señales de sensores\n",
    "for file in data_files:\n",
    "    path = os.path.join(clean_dir, file)\n",
    "    df = pd.read_csv(path)\n",
    "    plt.figure(figsize=(12, 6))\n",
    "    for sensor in ['sensor_measurement1', 'sensor_measurement2', 'sensor_measurement3']:\n",
    "        plt.plot(df[sensor], label=sensor)\n",
    "    plt.title(f\"📈 Señales de sensores - {file}\")\n",
    "    plt.xlabel(\"Index\")\n",
    "    plt.ylabel(\"Valor\")\n",
    "    plt.legend()\n",
    "    plt.show()"
   ]
  }
 ],
 "metadata": {},
 "nbformat": 4,
 "nbformat_minor": 5
}
