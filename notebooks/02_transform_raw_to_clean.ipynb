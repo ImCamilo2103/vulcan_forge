{
 "cells": [
  {
   "cell_type": "markdown",
   "id": "f0db859e",
   "metadata": {},
   "source": [
    "# 📗 Transformación de Archivos Raw a CSV Limpios\n",
    "En este notebook convertimos los archivos `.txt` crudos descargados a archivos `.csv` estructurados y validamos su contenido."
   ]
  },
  {
   "cell_type": "markdown",
   "id": "e25c3f91",
   "metadata": {},
   "source": [
    "## 📦 1. Cargar librerías necesarias"
   ]
  },
  {
   "cell_type": "code",
   "execution_count": null,
   "id": "57d6025b",
   "metadata": {},
   "outputs": [],
   "source": [
    "import os\n",
    "import pandas as pd"
   ]
  },
  {
   "cell_type": "markdown",
   "id": "680ce0f1",
   "metadata": {},
   "source": [
    "## 📁 2. Definir rutas y nombres de columnas\n",
    "Se configuran los directorios y se establecen los nombres de las columnas según la documentación del dataset."
   ]
  },
  {
   "cell_type": "code",
   "execution_count": null,
   "id": "73d2774f",
   "metadata": {},
   "outputs": [],
   "source": [
    "raw_dir = 'data/raw'\n",
    "clean_dir = 'data/cleaned'\n",
    "os.makedirs(clean_dir, exist_ok=True)\n",
    "\n",
    "columns = ['unit_number', 'time_in_cicles'] + [f'operational_setting{i}' for i in range(1, 4)] + [f'sensor_measurement{e}' for e in range(1, 22)]"
   ]
  },
  {
   "cell_type": "markdown",
   "id": "b421e633",
   "metadata": {},
   "source": [
    "## 🔄 3. Convertir archivos `.txt` a `.csv`\n",
    "Si el archivo comienza con `RUL`, se trata de un archivo de vida útil restante. Si no, es un dataset de sensores."
   ]
  },
  {
   "cell_type": "code",
   "execution_count": null,
   "id": "663deb38",
   "metadata": {},
   "outputs": [],
   "source": [
    "for file in os.listdir(raw_dir):\n",
    "    if file.endswith('.txt') and file != 'readme.txt':\n",
    "        file_path = os.path.join(raw_dir, file)\n",
    "        if file.startswith('RUL'):\n",
    "            fname = file.rstrip('.txt')\n",
    "            df = pd.read_csv(file_path, header=None, names=['rul'], delim_whitespace=True)\n",
    "            output_path = os.path.join(clean_dir, f'{fname}.csv')\n",
    "            df.to_csv(output_path, index=False)\n",
    "        else:\n",
    "            fname = file.rstrip('.txt')\n",
    "            df = pd.read_csv(file_path, header=None, names=columns, delim_whitespace=True)\n",
    "            output_path = os.path.join(clean_dir, f'{fname}.csv')\n",
    "            df.to_csv(output_path, index=False)\n",
    "        print(f\"✅ {file} ➡️ {fname}.csv guardado en {output_path}\")"
   ]
  },
  {
   "cell_type": "markdown",
   "id": "f6b4a198",
   "metadata": {},
   "source": [
    "## ✅ 4. Validar columnas numéricas\n",
    "Asegurarse de que todas las columnas sean numéricas. Si hay errores, los reporta con ejemplos."
   ]
  },
  {
   "cell_type": "code",
   "execution_count": null,
   "id": "e6b878e6",
   "metadata": {},
   "outputs": [],
   "source": [
    "for file in os.listdir(clean_dir):\n",
    "    file_path = os.path.join(clean_dir, file)\n",
    "    try:\n",
    "        if not file.startswith('rul'):\n",
    "            df = pd.read_csv(file_path)\n",
    "            for col in df.columns:\n",
    "                if df[col].dtype == 'object':\n",
    "                    try:\n",
    "                        pd.to_numeric(df[col], errors='raise')\n",
    "                    except Exception as e:\n",
    "                        print(f\"❌ Error en columna '{col}' del archivo '{file}': {e}\")\n",
    "                        print(\"👀 Valores problemáticos:\")\n",
    "                        print(df[col].unique()[:10])\n",
    "    except Exception as e:\n",
    "        print(f\"💥 Error cargando {file}: {e}\")"
   ]
  }
 ],
 "metadata": {},
 "nbformat": 4,
 "nbformat_minor": 5
}
