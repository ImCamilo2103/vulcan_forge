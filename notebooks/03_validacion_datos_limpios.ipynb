{
 "cells": [
  {
   "cell_type": "markdown",
   "id": "7866887c",
   "metadata": {},
   "source": [
    "# 🧪 Validación de Datos Limpios\n",
    "Este notebook permite verificar que los archivos `.csv` limpios contienen datos correctos, sin valores nulos, tipos inconsistentes o rangos extraños."
   ]
  },
  {
   "cell_type": "code",
   "execution_count": null,
   "id": "fb4858b0",
   "metadata": {},
   "outputs": [],
   "source": [
    "import os\n",
    "import pandas as pd"
   ]
  },
  {
   "cell_type": "code",
   "execution_count": null,
   "id": "b6a05e64",
   "metadata": {},
   "outputs": [],
   "source": [
    "clean_dir = 'data/cleaned'\n",
    "files = [f for f in os.listdir(clean_dir) if f.endswith('.csv')]\n",
    "print(f\"📄 Archivos a validar: {files}\")"
   ]
  },
  {
   "cell_type": "code",
   "execution_count": null,
   "id": "fcf69e29",
   "metadata": {},
   "outputs": [],
   "source": [
    "for file in files:\n",
    "    path = os.path.join(clean_dir, file)\n",
    "    print(f\"\\n📂 Archivo: {file}\")\n",
    "    df = pd.read_csv(path)\n",
    "    print(\"✅ Columnas:\", list(df.columns))\n",
    "    print(\"📏 Tipos de datos:\")\n",
    "    print(df.dtypes)\n",
    "    if df.isnull().sum().sum() == 0:\n",
    "        print(\"✅ No hay valores nulos.\")\n",
    "    else:\n",
    "        print(\"⚠️ Valores nulos detectados:\")\n",
    "        print(df.isnull().sum())\n",
    "    print(\"📊 Estadísticas descriptivas:\")\n",
    "    print(df.describe())"
   ]
  },
  {
   "cell_type": "code",
   "execution_count": null,
   "id": "0ffd82f4",
   "metadata": {},
   "outputs": [],
   "source": [
    "for file in files:\n",
    "    if file.lower().startswith('rul'):\n",
    "        continue\n",
    "    path = os.path.join(clean_dir, file)\n",
    "    df = pd.read_csv(path)\n",
    "    print(f\"\\n📈 Validación de rangos para {file}:\")\n",
    "    print(\"👀 Valores únicos por cada sensor (primeros sensores):\")\n",
    "    print(df.iloc[:, 5:10].nunique())"
   ]
  }
 ],
 "metadata": {},
 "nbformat": 4,
 "nbformat_minor": 5
}
