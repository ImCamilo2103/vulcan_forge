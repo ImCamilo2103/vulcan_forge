{
 "cells": [
  {
   "cell_type": "markdown",
   "id": "73cb4549",
   "metadata": {},
   "source": [
    "# 📙 Carga de Datos a PostgreSQL\n",
    "Este notebook inserta los datos limpios almacenados en archivos `.csv` a una base de datos PostgreSQL."
   ]
  },
  {
   "cell_type": "markdown",
   "id": "8c690050",
   "metadata": {},
   "source": [
    "## 📦 1. Importar librerías necesarias y secretos de conexión\n",
    "Usamos `psycopg2` para conectar con PostgreSQL y `pandas` para manejar los datos."
   ]
  },
  {
   "cell_type": "code",
   "execution_count": null,
   "id": "0db8cdc1",
   "metadata": {},
   "outputs": [],
   "source": [
    "import os\n",
    "import pandas as pd\n",
    "import psycopg2\n",
    "import hidden1  # Asegúrate de que este archivo existe con tu diccionario de conexión"
   ]
  },
  {
   "cell_type": "markdown",
   "id": "f6caf0e7",
   "metadata": {},
   "source": [
    "## 🔐 2. Conectar a la base de datos\n",
    "Se extraen las credenciales desde `hidden1.py` y se establece la conexión."
   ]
  },
  {
   "cell_type": "code",
   "execution_count": null,
   "id": "67650ad8",
   "metadata": {},
   "outputs": [],
   "source": [
    "secrets = hidden1.secrets()\n",
    "conn = psycopg2.connect(\n",
    "    host = secrets['host'],\n",
    "    port = secrets['port'],\n",
    "    database = secrets['database'],\n",
    "    user = secrets['user'],\n",
    "    password = secrets['pass']\n",
    ")\n",
    "cur = conn.cursor()"
   ]
  },
  {
   "cell_type": "markdown",
   "id": "c5c34125",
   "metadata": {},
   "source": [
    "## 📁 3. Cargar y recorrer archivos `.csv` limpios\n",
    "Insertamos los datos en las tablas correspondientes, identificando si el archivo es de RUL o de sensores."
   ]
  },
  {
   "cell_type": "code",
   "execution_count": null,
   "id": "a0f7b0d8",
   "metadata": {},
   "outputs": [],
   "source": [
    "clean_dir = 'data/cleaned'\n",
    "\n",
    "for file in os.listdir(clean_dir):\n",
    "    if not file.endswith('.csv'):\n",
    "        continue\n",
    "\n",
    "    path = os.path.join(clean_dir, file)\n",
    "    table = file.replace('.csv', '')\n",
    "    table_name = f'{table}_raw'\n",
    "\n",
    "    if table.lower().startswith('rul'):\n",
    "        df = pd.read_csv(path, header=0, names=['rul'])\n",
    "        for value in df['rul']:\n",
    "            cur.execute(f'INSERT INTO \"{table}\" (rul) VALUES (%s);', (int(value),))\n",
    "        print(f'🗃️ Insertados {len(df)} valores en {table}')\n",
    "\n",
    "    else:\n",
    "        columns = ['unit_number', 'time_in_cycles'] + [f'operational_setting{i}' for i in range(1, 4)] + [f'sensor_measurement{j}' for j in range(1, 22)]\n",
    "        df = pd.read_csv(path, header=0, names=columns)\n",
    "        placeholders = ', '.join(['%s'] * len(columns))\n",
    "        cols = ', '.join(columns)\n",
    "\n",
    "        for row in df.itertuples(index=False, name=None):\n",
    "            cur.execute(f'INSERT INTO \"{table_name}\" ({cols}) VALUES ({placeholders});', row)\n",
    "        print(f'🗃️ Insertados {len(df)} valores en {table_name}')"
   ]
  },
  {
   "cell_type": "markdown",
   "id": "03ebf4a5",
   "metadata": {},
   "source": [
    "## ✅ 4. Confirmar y cerrar conexión\n",
    "Guardamos los cambios y cerramos la conexión de manera segura."
   ]
  },
  {
   "cell_type": "code",
   "execution_count": null,
   "id": "fdaa10a2",
   "metadata": {},
   "outputs": [],
   "source": [
    "conn.commit()\n",
    "cur.close()\n",
    "conn.close()\n",
    "print(\"🚀 Todos los datos fueron cargados exitosamente.\")"
   ]
  }
 ],
 "metadata": {},
 "nbformat": 4,
 "nbformat_minor": 5
}
