%%writefile vulcan_data_download.ipynb
{
 "cells": [
  {
   "cell_type": "markdown",
   "metadata": {},
   "source": [
    "# 🔥 Vulcan Forge - Descarga de Datasets NASA\n",
    "**Descarga automatizada del dataset Turbofan Engine Degradation**"
   ]
  },
  {
   "cell_type": "code",
   "execution_count": null,
   "metadata": {},
   "outputs": [],
   "source": [
    "import os\n",
    "import csv\n",
    "import requests\n",
    "from bs4 import BeautifulSoup\n",
    "from urllib.parse import unquote\n",
    "from pathlib import Path\n",
    "import time\n",
    "\n",
    "# Configuración inicial\n",
    "print(\"🔥 Iniciando Vulcan Forge Data Download\")\n",
    "start_time = time.time()"
   ]
  },
  {
   "cell_type": "markdown",
   "metadata": {},
   "source": [
    "## 1. Configuración de Rutas"
   ]
  },
  {
   "cell_type": "code",
   "execution_count": null,
   "metadata": {},
   "outputs": [],
   "source": [
    "# Configurar rutas (modifica según tu sistema)\n",
    "BASE_DIR = Path(\"C:/Users/Asus/Documents/data analysis/Portafolio/vulcan_forge\")\n",
    "DATA_RAW_DIR = BASE_DIR / \"data/raw\"\n",
    "\n",
    "# Crear directorios si no existen\n",
    "DATA_RAW_DIR.mkdir(parents=True, exist_ok=True)\n",
    "\n",
    "print(f\"📂 Directorio de trabajo: {BASE_DIR}\")"
   ]
  },
  {
   "cell_type": "markdown",
   "metadata": {},
   "source": [
    "## 2. Obtención de Enlaces NASA"
   ]
  },
  {
   "cell_type": "code",
   "execution_count": null,
   "metadata": {},
   "outputs": [],
   "source": [
    "def get_nasa_links():\n",
    "    \"\"\"Obtiene enlaces .zip del repositorio NASA PCOE\"\"\"\n",
    "    print(\"📡 Conectando con servidor NASA...\")\n",
    "    url = 'https://www.nasa.gov/intelligent-systems-division/discovery-and-systems-health/pcoe/pcoe-data-set-repository'\n",
    "    \n",
    "    try:\n",
    "        response = requests.get(url, timeout=15)\n",
    "        response.raise_for_status()\n",
    "        \n",
    "        soup = BeautifulSoup(response.text, 'html.parser')\n",
    "        tags = soup.find_all('a', href=True)\n",
    "        \n",
    "        enlaces = []\n",
    "        for tag in tags:\n",
    "            href = tag['href']\n",
    "            if href.endswith('.zip'):\n",
    "                text = tag.get_text(strip=True) or \"dataset_sin_nombre\"\n",
    "                enlaces.append((text, href))\n",
    "                \n",
    "        print(f\"🔗 Encontrados {len(enlaces)} archivos .zip\")\n",
    "        return enlaces\n",
    "    \n",
    "    except Exception as e:\n",
    "        print(f\"❌ Error al obtener enlaces: {str(e)}\")\n",
    "        return []\n",
    "\n",
    "# Ejecutar función\n",
    "enlaces = get_nasa_links()"
   ]
  },
  {
   "cell_type": "markdown",
   "metadata": {},
   "source": [
    "## 3. Guardado de Metadatos"
   ]
  },
  {
   "cell_type": "code",
   "execution_count": null,
   "metadata": {},
   "outputs": [],
   "source": [
    "def save_metadata(links):\n",
    "    \"\"\"Guarda metadatos de los datasets\"\"\"\n",
    "    page_path = DATA_RAW_DIR / \"nasa_pcoe_page.html\"\n",
    "    csv_path = DATA_RAW_DIR / \"dataset_links.csv\"\n",
    "    \n",
    "    try:\n",
    "        # Guardar página HTML\n",
    "        response = requests.get(url)\n",
    "        with open(page_path, 'w', encoding='utf-8') as page:\n",
    "            page.write(response.text)\n",
    "        \n",
    "        # Guardar CSV con enlaces\n",
    "        with open(csv_path, 'w', encoding='utf-8', newline='') as f:\n",
    "            writer = csv.writer(f)\n",
    "            writer.writerow(['dataset_name', 'url'])\n",
    "            writer.writerows(links)\n",
    "            \n",
    "        print(f\"💾 Metadatos guardados en: {csv_path}\")\n",
    "        return True\n",
    "    \n",
    "    except Exception as e:\n",
    "        print(f\"❌ Error guardando metadatos: {str(e)}\")\n",
    "        return False\n",
    "\n",
    "# Ejecutar función\n",
    "if enlaces:\n",
    "    save_metadata(enlaces)"
   ]
  },
  {
   "cell_type": "markdown",
   "metadata": {},
   "source": [
    "## 4. Descarga de Archivos"
   ]
  },
  {
   "cell_type": "code",
   "execution_count": null,
   "metadata": {},
   "outputs": [],
   "source": [
    "def download_datasets(links):\n",
    "    \"\"\"Descarga todos los datasets .zip\"\"\"\n",
    "    print(f\"⬇️ Iniciando descarga de {len(links)} archivos...\")\n",
    "    \n",
    "    success_count = 0\n",
    "    for i, (text, url) in enumerate(links, 1):\n",
    "        try:\n",
    "            filename = unquote(url.split('/')[-1]).strip()\n",
    "            file_path = DATA_RAW_DIR / filename\n",
    "            \n",
    "            # Saltar si ya existe\n",
    "            if file_path.exists():\n",
    "                print(f\"⏭️ {i}/{len(links)}: {filename} ya existe, omitiendo\")\n",
    "                continue\n",
    "                \n",
    "            print(f\"📥 {i}/{len(links)}: Descargando {filename} ({text[:20]}...)\")\n",
    "            \n",
    "            r = requests.get(url, stream=True, timeout=30)\n",
    "            r.raise_for_status()\n",
    "            \n",
    "            with open(file_path, 'wb') as f:\n",
    "                for chunk in r.iter_content(chunk_size=8192):\n",
    "                    if chunk:\n",
    "                        f.write(chunk)\n",
    "                        \n",
    "            success_count += 1\n",
    "            print(f\"✅ Descarga completada: {file_path}\")\n",
    "            \n",
    "            # Pequeña pausa entre descargas\n",
    "            time.sleep(1)\n",
    "            \n",
    "        except Exception as e:\n",
    "            print(f\"❌ Error en {filename}: {str(e)}\")\n",
    "    \n",
    "    print(f\"\\n🔥 Descargas completadas: {success_count}/{len(links)} archivos\")\n",
    "    return success_count\n",
    "\n",
    "# Ejecutar descarga\n",
    "if enlaces:\n",
    "    download_datasets(enlaces)"
   ]
  },
  {
   "cell_type": "markdown",
   "metadata": {},
   "source": [
    "## 5. Verificación de Dataset Turbofan"
   ]
  },
  {
   "cell_type": "code",
   "execution_count": null,
   "metadata": {},
   "outputs": [],
   "source": [
    "def verify_turbofan():\n",
    "    \"\"\"Verifica la presencia del dataset #6 (Turbofan)\"\"\"\n",
    "    print(\"\\n🔍 Verificando dataset Turbofan Engine Degradation...\")\n",
    "    \n",
    "    turbofan_files = [\n",
    "        \"train_FD001.txt\", \n",
    "        \"test_FD001.txt\", \n",
    "        \"RUL_FD001.txt\"\n",
    "    ]\n",
    "    \n",
    "    # Comprobar archivos en directorio\n",
    "    existing_files = [f.name for f in DATA_RAW_DIR.glob(\"*\")]\n",
    "    \n",
    "    # Buscar archivos clave\n",
    "    found_files = [f for f in turbofan_files if f in existing_files]\n",
    "    \n",
    "    if len(found_files) == len(turbofan_files):\n",
    "        print(\"✅ Dataset Turbofan completo y verificado\")\n",
    "        print(f\"   Archivos: {', '.join(found_files)}\")\n",
    "    elif found_files:\n",
    "        print(f\"⚠️ Dataset Turbofan parcial: Faltan {len(turbofan_files)-len(found_files)} archivos\")\n",
    "        print(f\"   Encontrados: {', '.join(found_files)}\")\n",
    "    else:\n",
    "        print(\"❌ Dataset Turbofan no encontrado en los archivos descargados\")\n",
    "        \n",
    "        # Descarga alternativa directa\n",
    "        print(\"\\n🚀 Intentando descarga alternativa directa...\")\n",
    "        direct_files = [\n",
    "            (\"train_FD001.txt\", \"https://ti.arc.nasa.gov/c/6/train_FD001.txt\"),\n",
    "            (\"test_FD001.txt\", \"https://ti.arc.nasa.gov/c/6/test_FD001.txt\"),\n",
    "            (\"RUL_FD001.txt\", \"https://ti.arc.nasa.gov/c/6/RUL_FD001.txt\")\n",
    "        ]\n",
    "        download_datasets(direct_files)\n",
    "\n",
    "# Ejecutar verificación\n",
    "verify_turbofan()"
   ]
  },
  {
   "cell_type": "markdown",
   "metadata": {},
   "source": [
    "## 6. Resumen Final"
   ]
  },
  {
   "cell_type": "code",
   "execution_count": null,
   "metadata": {},
   "outputs": [],
   "source": [
    "# Mostrar resumen\n",
    "end_time = time.time()\n",
    "execution_time = end_time - start_time\n",
    "\n",
    "print(\"\\n\" + \"=\"*50)\n",
    "print(f\"🔥 VULCAN FORGE - DESCARGA COMPLETADA\")\n",
    "print(\"=\"*50)\n",
    "print(f\"⏱️ Tiempo total: {execution_time:.2f} segundos\")\n",
    "print(f\"📂 Directorio de datos: {DATA_RAW_DIR}\")\n",
    "print(\"✅ Próximo paso: Ejecutar limpieza y transformación de datos\")\n",
    "print(\"=\"*50)"
   ]
  }
 ],
 "metadata": {
  "kernelspec": {
   "display_name": "Python 3",
   "language": "python",
   "name": "python3"
  },
  "language_info": {
   "codemirror_mode": {
    "name": "ipython",
    "version": 3
   },
   "file_extension": ".py",
   "mimetype": "text/x-python",
   "name": "python",
   "nbconvert_exporter": "python",
   "pygments_lexer": "ipython3",
   "version": "3.8.5"
  }
 },
 "nbformat": 4,
 "nbformat_minor": 4
}